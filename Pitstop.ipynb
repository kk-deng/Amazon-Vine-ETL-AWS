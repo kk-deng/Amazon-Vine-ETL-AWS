{
  "nbformat": 4,
  "nbformat_minor": 0,
  "metadata": {
    "colab": {
      "name": "Pitstop.ipynb",
      "provenance": [],
      "collapsed_sections": [],
      "toc_visible": true,
      "authorship_tag": "ABX9TyM4A2mCiTZ+NgGFicTi08yp",
      "include_colab_link": true
    },
    "kernelspec": {
      "name": "python3",
      "display_name": "Python 3"
    },
    "language_info": {
      "name": "python"
    }
  },
  "cells": [
    {
      "cell_type": "markdown",
      "metadata": {
        "id": "view-in-github",
        "colab_type": "text"
      },
      "source": [
        "<a href=\"https://colab.research.google.com/github/kk-deng/Amazon-Vine-ETL-AWS/blob/main/Pitstop.ipynb\" target=\"_parent\"><img src=\"https://colab.research.google.com/assets/colab-badge.svg\" alt=\"Open In Colab\"/></a>"
      ]
    },
    {
      "cell_type": "markdown",
      "metadata": {
        "id": "e3MlR2eNuxqj"
      },
      "source": [
        "# Question 1\n",
        "## \"red sky in the morning, sailor take warning\"\n",
        "\n",
        "----"
      ]
    },
    {
      "cell_type": "markdown",
      "metadata": {
        "id": "gkNoZzuwx2zA"
      },
      "source": [
        "From the definition, Independent Event means the outcome of one event does not affect the outcome of the other:\n",
        "\n",
        "$$\n",
        "P(A\\cap B) = P(A) \\cdot P(B)\n",
        "$$\n",
        "\n",
        "Where event **A** is \"red sky\" and event **B** is \"storm\".\n",
        "\n",
        "$$ P(A) = (10+40)/(10+40+X+60) = 50/(110+X) $$\n",
        "$$ P(B) = (10+X)/(10+40+X+60) = (10+X)/(110+X) $$\n",
        "$$ P(A\\cap B) = 10/(10+40+X+60) = 10/(110+X) $$\n",
        "\n",
        "Then\n",
        "$ X = 15 $ "
      ]
    },
    {
      "cell_type": "markdown",
      "metadata": {
        "id": "w1cvclCP2qXg"
      },
      "source": [
        "The Pearson's **Chi-Squared Test** can be used to determine if the storm weather is independent from the red sky."
      ]
    },
    {
      "cell_type": "code",
      "metadata": {
        "id": "31WWnBpejoAI",
        "colab": {
          "base_uri": "https://localhost:8080/"
        },
        "outputId": "3defca65-2a17-4dc5-de29-9d25849fc46d"
      },
      "source": [
        "import numpy as np\n",
        "from scipy.stats import chi2_contingency\n",
        "\n",
        "# Assuming the X is 5, then\n",
        "obs = np.array([[10, 5], [40, 60]])\n",
        "stat, p, dof, expected = chi2_contingency(obs)\n",
        "print('The test statistic: {:0.4f}'.format(stat))\n",
        "print('The p-value: {:0.4f}'.format(p))\n",
        "print('The degree of freedom: {:0.4f}'.format(dof))\n",
        "print('The expected value: {}'.format(expected))"
      ],
      "execution_count": 20,
      "outputs": [
        {
          "output_type": "stream",
          "text": [
            "The test statistic: 2.7672\n",
            "The p-value: 0.0962\n",
            "The degree of freedom: 1.0000\n",
            "The expected value: [[ 6.52173913  8.47826087]\n",
            " [43.47826087 56.52173913]]\n"
          ],
          "name": "stdout"
        }
      ]
    },
    {
      "cell_type": "markdown",
      "metadata": {
        "id": "glpqTiyd9uVh"
      },
      "source": [
        "$H_0$ hypothesis: Storm is indenpendent to red sky.\n",
        "\n",
        "$H_1$ hypothesis: Storm is dependent to red sky."
      ]
    },
    {
      "cell_type": "code",
      "metadata": {
        "colab": {
          "base_uri": "https://localhost:8080/"
        },
        "id": "9fyMbeVl52MU",
        "outputId": "6eef4ca9-152a-4fba-9284-067a2c71aad1"
      },
      "source": [
        "# If alpha is given as 0.05\n",
        "alpha = 0.05 \n",
        "if p <= alpha:\n",
        "  print('Reject H0 hypothesis. Dependent')\n",
        "else:\n",
        "  print('Fail to reject H0 hypothesis. Independent')"
      ],
      "execution_count": 21,
      "outputs": [
        {
          "output_type": "stream",
          "text": [
            "Fail to reject H0 hypothesis. Independent\n"
          ],
          "name": "stdout"
        }
      ]
    },
    {
      "cell_type": "markdown",
      "metadata": {
        "id": "2bya0nmb8Rpe"
      },
      "source": [
        "# Question 2\n",
        "## Testing Apple tree group differences\n",
        "\n",
        "----"
      ]
    },
    {
      "cell_type": "markdown",
      "metadata": {
        "id": "yoplrafl8aIN"
      },
      "source": [
        "Read file"
      ]
    },
    {
      "cell_type": "code",
      "metadata": {
        "colab": {
          "base_uri": "https://localhost:8080/",
          "height": 318
        },
        "id": "31JmA3q4889t",
        "outputId": "b6dc2669-4305-4d8a-a90e-eea4b50237cc"
      },
      "source": [
        "import pandas as pd\n",
        "\n",
        "filepath = \"AppleData.dat\"\n",
        "df_dat = pd.read_table(filepath)\n",
        "df_dat"
      ],
      "execution_count": 22,
      "outputs": [
        {
          "output_type": "execute_result",
          "data": {
            "text/html": [
              "<div>\n",
              "<style scoped>\n",
              "    .dataframe tbody tr th:only-of-type {\n",
              "        vertical-align: middle;\n",
              "    }\n",
              "\n",
              "    .dataframe tbody tr th {\n",
              "        vertical-align: top;\n",
              "    }\n",
              "\n",
              "    .dataframe thead th {\n",
              "        text-align: right;\n",
              "    }\n",
              "</style>\n",
              "<table border=\"1\" class=\"dataframe\">\n",
              "  <thead>\n",
              "    <tr style=\"text-align: right;\">\n",
              "      <th></th>\n",
              "      <th>SEASON 1</th>\n",
              "    </tr>\n",
              "  </thead>\n",
              "  <tbody>\n",
              "    <tr>\n",
              "      <th>0</th>\n",
              "      <td>treated</td>\n",
              "    </tr>\n",
              "    <tr>\n",
              "      <th>1</th>\n",
              "      <td>[488.0, 541.0, 494.0, 536.0, 417.0, 471.0, 421...</td>\n",
              "    </tr>\n",
              "    <tr>\n",
              "      <th>2</th>\n",
              "      <td>untreated</td>\n",
              "    </tr>\n",
              "    <tr>\n",
              "      <th>3</th>\n",
              "      <td>[458.0, 583.0, 478.0, 562.0, 577.0, 399.0, 416...</td>\n",
              "    </tr>\n",
              "    <tr>\n",
              "      <th>4</th>\n",
              "      <td>SEASON 2</td>\n",
              "    </tr>\n",
              "    <tr>\n",
              "      <th>5</th>\n",
              "      <td>treated</td>\n",
              "    </tr>\n",
              "    <tr>\n",
              "      <th>6</th>\n",
              "      <td>[455.0, 435.0, 543.0, 469.0, 503.0, 458.0, 467...</td>\n",
              "    </tr>\n",
              "    <tr>\n",
              "      <th>7</th>\n",
              "      <td>untreated</td>\n",
              "    </tr>\n",
              "    <tr>\n",
              "      <th>8</th>\n",
              "      <td>[436.0, 512.0, 523.0, 444.0, 394.0, 508.0, 457...</td>\n",
              "    </tr>\n",
              "  </tbody>\n",
              "</table>\n",
              "</div>"
            ],
            "text/plain": [
              "                                            SEASON 1\n",
              "0                                            treated\n",
              "1  [488.0, 541.0, 494.0, 536.0, 417.0, 471.0, 421...\n",
              "2                                          untreated\n",
              "3  [458.0, 583.0, 478.0, 562.0, 577.0, 399.0, 416...\n",
              "4                                           SEASON 2\n",
              "5                                            treated\n",
              "6  [455.0, 435.0, 543.0, 469.0, 503.0, 458.0, 467...\n",
              "7                                          untreated\n",
              "8  [436.0, 512.0, 523.0, 444.0, 394.0, 508.0, 457..."
            ]
          },
          "metadata": {
            "tags": []
          },
          "execution_count": 22
        }
      ]
    },
    {
      "cell_type": "code",
      "metadata": {
        "id": "MEHmmWQ1BJff"
      },
      "source": [
        "def convert_to_series(n):\n",
        "  return pd.Series(df_dat.loc[n][0].replace(\"[\",\"\").replace(\"]\",\"\").split(\", \"))\n",
        "\n",
        "df = pd.DataFrame({'S1_treated': convert_to_series(1),\n",
        "                   'S1_untreated': convert_to_series(3),\n",
        "                   'S2_treated': convert_to_series(6),\n",
        "                   'S2_untreated': convert_to_series(8)})"
      ],
      "execution_count": 23,
      "outputs": []
    },
    {
      "cell_type": "code",
      "metadata": {
        "colab": {
          "base_uri": "https://localhost:8080/",
          "height": 198
        },
        "id": "2SknM-pVEY8W",
        "outputId": "2c37eadc-79c2-467f-e5f2-e6a29d8a8174"
      },
      "source": [
        "df = df.apply(pd.to_numeric)\n",
        "df.head()"
      ],
      "execution_count": 28,
      "outputs": [
        {
          "output_type": "execute_result",
          "data": {
            "text/html": [
              "<div>\n",
              "<style scoped>\n",
              "    .dataframe tbody tr th:only-of-type {\n",
              "        vertical-align: middle;\n",
              "    }\n",
              "\n",
              "    .dataframe tbody tr th {\n",
              "        vertical-align: top;\n",
              "    }\n",
              "\n",
              "    .dataframe thead th {\n",
              "        text-align: right;\n",
              "    }\n",
              "</style>\n",
              "<table border=\"1\" class=\"dataframe\">\n",
              "  <thead>\n",
              "    <tr style=\"text-align: right;\">\n",
              "      <th></th>\n",
              "      <th>S1_treated</th>\n",
              "      <th>S1_untreated</th>\n",
              "      <th>S2_treated</th>\n",
              "      <th>S2_untreated</th>\n",
              "    </tr>\n",
              "  </thead>\n",
              "  <tbody>\n",
              "    <tr>\n",
              "      <th>0</th>\n",
              "      <td>488.0</td>\n",
              "      <td>458.0</td>\n",
              "      <td>455.0</td>\n",
              "      <td>436.0</td>\n",
              "    </tr>\n",
              "    <tr>\n",
              "      <th>1</th>\n",
              "      <td>541.0</td>\n",
              "      <td>583.0</td>\n",
              "      <td>435.0</td>\n",
              "      <td>512.0</td>\n",
              "    </tr>\n",
              "    <tr>\n",
              "      <th>2</th>\n",
              "      <td>494.0</td>\n",
              "      <td>478.0</td>\n",
              "      <td>543.0</td>\n",
              "      <td>523.0</td>\n",
              "    </tr>\n",
              "    <tr>\n",
              "      <th>3</th>\n",
              "      <td>536.0</td>\n",
              "      <td>562.0</td>\n",
              "      <td>469.0</td>\n",
              "      <td>444.0</td>\n",
              "    </tr>\n",
              "    <tr>\n",
              "      <th>4</th>\n",
              "      <td>417.0</td>\n",
              "      <td>577.0</td>\n",
              "      <td>503.0</td>\n",
              "      <td>394.0</td>\n",
              "    </tr>\n",
              "  </tbody>\n",
              "</table>\n",
              "</div>"
            ],
            "text/plain": [
              "   S1_treated  S1_untreated  S2_treated  S2_untreated\n",
              "0       488.0         458.0       455.0         436.0\n",
              "1       541.0         583.0       435.0         512.0\n",
              "2       494.0         478.0       543.0         523.0\n",
              "3       536.0         562.0       469.0         444.0\n",
              "4       417.0         577.0       503.0         394.0"
            ]
          },
          "metadata": {
            "tags": []
          },
          "execution_count": 28
        }
      ]
    },
    {
      "cell_type": "markdown",
      "metadata": {
        "id": "dj0CBhqY6pYw"
      },
      "source": [
        "Let's check if two sample groups have a similar amount of variance (i.e. Homogeneity of Variance)."
      ]
    },
    {
      "cell_type": "code",
      "metadata": {
        "colab": {
          "base_uri": "https://localhost:8080/"
        },
        "id": "_8OgA-KDhsi9",
        "outputId": "299617f5-378b-4f27-c52e-8979bbdc2bb4"
      },
      "source": [
        "# Season 1\n",
        "print(stats.levene(df.S1_treated, df.S1_untreated))\n",
        "\n",
        "# Season 2\n",
        "print(stats.levene(df.S2_treated, df.S2_untreated))"
      ],
      "execution_count": 34,
      "outputs": [
        {
          "output_type": "stream",
          "text": [
            "LeveneResult(statistic=0.004267968118125966, pvalue=0.9480445889021037)\n",
            "LeveneResult(statistic=2.658904987818953, pvalue=0.10618150115782979)\n"
          ],
          "name": "stdout"
        }
      ]
    },
    {
      "cell_type": "markdown",
      "metadata": {
        "id": "MtvUEtSEfvPw"
      },
      "source": [
        "\n",
        "\n",
        "Two samples have difference variances, so we should use **Welch's t-test** by setting `equal_var = False`."
      ]
    },
    {
      "cell_type": "code",
      "metadata": {
        "colab": {
          "base_uri": "https://localhost:8080/"
        },
        "id": "WlKyVvH-dmmr",
        "outputId": "1c617e74-0112-4433-aa4a-e81450546008"
      },
      "source": [
        "from scipy import stats\n",
        "\n",
        "(s1_statistic, s1_pvalue) = stats.ttest_ind(df.S1_treated, df.S1_untreated, equal_var = False)\n",
        "print(\"statistic: {:.4f}\".format(s1_statistic))\n",
        "print(\"p value: {:.4f}\".format(s1_pvalue))"
      ],
      "execution_count": 25,
      "outputs": [
        {
          "output_type": "stream",
          "text": [
            "statistic: 0.7244\n",
            "p value: 0.4706\n"
          ],
          "name": "stdout"
        }
      ]
    },
    {
      "cell_type": "code",
      "metadata": {
        "colab": {
          "base_uri": "https://localhost:8080/"
        },
        "id": "0PAvc742fl4d",
        "outputId": "aa360a5b-6a9f-45d0-b24f-ee5d31ca7eaf"
      },
      "source": [
        "(s2_statistic, s2_pvalue) = stats.ttest_ind(df.S2_treated, df.S2_untreated, equal_var = False)\n",
        "print(\"statistic: {:.4f}\".format(s2_statistic))\n",
        "print(\"p value: {:.4f}\".format(s2_pvalue))"
      ],
      "execution_count": 27,
      "outputs": [
        {
          "output_type": "stream",
          "text": [
            "statistic: 3.1148\n",
            "p value: 0.0024\n"
          ],
          "name": "stdout"
        }
      ]
    },
    {
      "cell_type": "code",
      "metadata": {
        "colab": {
          "base_uri": "https://localhost:8080/",
          "height": 372
        },
        "id": "_DCQy4-X29lS",
        "outputId": "f37a374e-4705-4dec-8471-8072b532e4dd"
      },
      "source": [
        "df.hist()"
      ],
      "execution_count": 35,
      "outputs": [
        {
          "output_type": "execute_result",
          "data": {
            "text/plain": [
              "array([[<matplotlib.axes._subplots.AxesSubplot object at 0x7ff0f1459790>,\n",
              "        <matplotlib.axes._subplots.AxesSubplot object at 0x7ff0f13e5190>],\n",
              "       [<matplotlib.axes._subplots.AxesSubplot object at 0x7ff0f14147d0>,\n",
              "        <matplotlib.axes._subplots.AxesSubplot object at 0x7ff0f13c3e50>]],\n",
              "      dtype=object)"
            ]
          },
          "metadata": {
            "tags": []
          },
          "execution_count": 35
        },
        {
          "output_type": "display_data",
          "data": {
            "image/png": "[encoded data removed]",
            "text/plain": [
              "<Figure size 432x288 with 4 Axes>"
            ]
          },
          "metadata": {
            "tags": [],
            "needs_background": "light"
          }
        }
      ]
    },
    {
      "cell_type": "code",
      "metadata": {
        "colab": {
          "base_uri": "https://localhost:8080/",
          "height": 279
        },
        "id": "nPpDuvIS-wLc",
        "outputId": "1894c5fc-d6c4-45db-bc8d-d022886eeb50"
      },
      "source": [
        "from statsmodels.graphics.gofplots import qqplot\n",
        "from matplotlib import pyplot\n",
        "# q-q plot\n",
        "qqplot(df.S2_untreated, line='s')\n",
        "pyplot.show()"
      ],
      "execution_count": 40,
      "outputs": [
        {
          "output_type": "display_data",
          "data": {
            "image/png": "[encoded data removed]",
            "text/plain": [
              "<Figure size 432x288 with 1 Axes>"
            ]
          },
          "metadata": {
            "tags": [],
            "needs_background": "light"
          }
        }
      ]
    }
  ]
}