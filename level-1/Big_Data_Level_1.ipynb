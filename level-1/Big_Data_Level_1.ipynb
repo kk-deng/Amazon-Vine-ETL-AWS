{
  "nbformat": 4,
  "nbformat_minor": 0,
  "metadata": {
    "colab": {
      "name": "Big Data Level 1.ipynb",
      "provenance": [],
      "collapsed_sections": [],
      "mount_file_id": "16FdkxXTAYyvBPellPLuGyR0oDSTUwzTy",
      "authorship_tag": "ABX9TyNe0U7HYkStOyrPiK+s/Jqa",
      "include_colab_link": true
    },
    "kernelspec": {
      "name": "python3",
      "display_name": "Python 3"
    },
    "language_info": {
      "name": "python"
    }
  },
  "cells": [
    {
      "cell_type": "markdown",
      "metadata": {
        "id": "view-in-github",
        "colab_type": "text"
      },
      "source": [
        "<a href=\"https://colab.research.google.com/github/kk-deng/Big-Data-Challenge/blob/main/Big_Data_Level_1.ipynb\" target=\"_parent\"><img src=\"https://colab.research.google.com/assets/colab-badge.svg\" alt=\"Open In Colab\"/></a>"
      ]
    },
    {
      "cell_type": "code",
      "metadata": {
        "id": "S1jmMAYmhAsx",
        "colab": {
          "base_uri": "https://localhost:8080/"
        },
        "outputId": "c5150e6a-9530-4e82-a455-776b18465d23"
      },
      "source": [
        "# Config for Spark\n",
        "!apt-get install openjdk-8-jdk-headless -qq > /dev/null\n",
        "!wget -q https://www-us.apache.org/dist/spark/spark-3.0.2/spark-3.0.2-bin-hadoop2.7.tgz\n",
        "!tar xf spark-3.0.2-bin-hadoop2.7.tgz\n",
        "!pip install -q findspark\n",
        "\n",
        "# Set Environment Variables\n",
        "import os\n",
        "os.environ[\"JAVA_HOME\"] = \"/usr/lib/jvm/java-8-openjdk-amd64\"\n",
        "os.environ[\"SPARK_HOME\"] = \"/content/spark-3.0.2-bin-hadoop2.7\"\n",
        "\n",
        "# Start a SparkSession\n",
        "import findspark\n",
        "findspark.init()\n",
        "from pyspark.sql import SparkSession \n",
        "\n",
        "spark = SparkSession.builder.appName(\"Basics\").config(\"spark.driver.extraClassPath\",\"/content/postgresql-42.2.9.jar\").getOrCreate()\n",
        "\n",
        "# For connection to Postgres \n",
        "!wget https://jdbc.postgresql.org/download/postgresql-42.2.9.jar"
      ],
      "execution_count": 1,
      "outputs": [
        {
          "output_type": "stream",
          "text": [
            "--2021-03-21 02:27:27--  https://jdbc.postgresql.org/download/postgresql-42.2.9.jar\n",
            "Resolving jdbc.postgresql.org (jdbc.postgresql.org)... 72.32.157.228, 2001:4800:3e1:1::228\n",
            "Connecting to jdbc.postgresql.org (jdbc.postgresql.org)|72.32.157.228|:443... connected.\n",
            "HTTP request sent, awaiting response... 200 OK\n",
            "Length: 914037 (893K) [application/java-archive]\n",
            "Saving to: ‘postgresql-42.2.9.jar’\n",
            "\n",
            "postgresql-42.2.9.j 100%[===================>] 892.61K  4.35MB/s    in 0.2s    \n",
            "\n",
            "2021-03-21 02:27:28 (4.35 MB/s) - ‘postgresql-42.2.9.jar’ saved [914037/914037]\n",
            "\n"
          ],
          "name": "stdout"
        }
      ]
    },
    {
      "cell_type": "code",
      "metadata": {
        "colab": {
          "base_uri": "https://localhost:8080/"
        },
        "id": "QhQAGIxej5pw",
        "outputId": "286d2a00-3fcc-4cd7-e753-193a421d6f16"
      },
      "source": [
        "url = \"https://s3.amazonaws.com/amazon-reviews-pds/tsv/amazon_reviews_us_Luggage_v1_00.tsv.gz\"\n",
        "\n",
        "from pyspark import SparkFiles\n",
        "spark.sparkContext.addFile(url)\n",
        "spark_df = spark.read.csv(SparkFiles.get(\"amazon_reviews_us_Luggage_v1_00.tsv.gz\"), sep=\"\\t\", header=True)\n",
        "spark_df.show()"
      ],
      "execution_count": 16,
      "outputs": [
        {
          "output_type": "stream",
          "text": [
            "+-----------+-----------+--------------+----------+--------------+--------------------+----------------+-----------+-------------+-----------+----+-----------------+--------------------+--------------------+-----------+\n",
            "|marketplace|customer_id|     review_id|product_id|product_parent|       product_title|product_category|star_rating|helpful_votes|total_votes|vine|verified_purchase|     review_headline|         review_body|review_date|\n",
            "+-----------+-----------+--------------+----------+--------------+--------------------+----------------+-----------+-------------+-----------+----+-----------------+--------------------+--------------------+-----------+\n",
            "|         US|   40884699| R9CO86UUJCAW5|B00VGTN02Y|     786681372|Teenage Mutant Ni...|         Luggage|          3|            0|          0|   N|                Y|my review of this...|my review of this...| 2015-08-31|\n",
            "|         US|   23208852|R3PR8X6QGVJ8B1|B005KIWL0E|     618251799|Kenneth Cole Reac...|         Luggage|          5|            0|          0|   N|                Y|          Five Stars|       Perfect size.| 2015-08-31|\n",
            "|         US|   17100246|R39BO2819ABUPF|B007UNSHJ6|     810480328|American Touriste...|         Luggage|          4|            0|          0|   N|                Y|            so good.|    So far, so good.| 2015-08-31|\n",
            "|         US|   13533670|R3ADL7V6EGGEEP|B00WHFNXB4|      20765193|15.5 Inch Purple ...|         Luggage|          4|            0|          0|   N|                Y|          Four Stars|seems nicely made...| 2015-08-31|\n",
            "|         US|   38541771|R1OXYPBPLVRMI5|B000M5NBYU|     812890709|Port & Company Zi...|         Luggage|          5|            0|          0|   N|                Y|           Dance Bag|Great bag for all...| 2015-08-31|\n",
            "|         US|   12686499|R1WYM8Z5ATQ98O|B00ACBJ89G|     624906499|J World New York ...|         Luggage|          3|            0|          0|   N|                Y|        TOO SMALL!!!|it´s nice BUT it´...| 2015-08-31|\n",
            "|         US|   27767206|R3LCIANTN1H9EC|B001H4BQ1A|     385044506|Voltage Valet Clo...|         Luggage|          4|            1|          1|   N|                Y|          Four Stars|It does the job b...| 2015-08-31|\n",
            "|         US|   46630606|R3U2M23N1P0KQ6|B00ESG6NDK|      51297652|Pro Packing Cubes...|         Luggage|          5|            0|          0|   N|                Y|          Five Stars|          Just fine.| 2015-08-31|\n",
            "|         US|   41622754|R29MB6N7HB6NZI|B00M14SAXC|     832113872|Girl's Dance Duff...|         Luggage|          1|            2|          2|   N|                Y|We were exited to...|We were exited to...| 2015-08-31|\n",
            "|         US|   15296380| RGEQ6DGRG7DQG|B012PC5QAY|     490793867|Disney Inside Out...|         Luggage|          5|            0|          0|   N|                Y|               cute!|Very nice and we'...| 2015-08-31|\n",
            "|         US|   21206415|R38HNH0BSS2KFE|B00VWKWWMG|     356411837|World Traveler 13...|         Luggage|          1|            1|          1|   N|                Y|            One Star|Brought it on vac...| 2015-08-31|\n",
            "|         US|   34554097|R2CATRM9CH59LY|B00N2U14UK|     326835930|Sherpani Trevia C...|         Luggage|          5|            4|          4|   N|                Y|A great bag for t...|I purchased this ...| 2015-08-31|\n",
            "|         US|   42252567|R18DMKNDPJ1BSN|B00K4F45CA|     954517686|Rockland Luggage ...|         Luggage|          5|            0|          1|   N|                Y|             Perfect|Love this light w...| 2015-08-31|\n",
            "|         US|    3532342| RZRSHBWXO3XUQ|B00U57FFA8|      98867907|Allant 16\" Padded...|         Luggage|          5|            0|          0|   N|                Y|it's durable and ...|Purchased this ba...| 2015-08-31|\n",
            "|         US|    7791634|R1BMTNSYCZY1NI|B00ROSRFQ8|     648371973|Polare Manly Real...|         Luggage|          3|            1|          1|   N|                Y|Strong well-made ...|I've had this bag...| 2015-08-31|\n",
            "|         US|    9911099| RPE2S0HZQ9EFP|B003ZV71BM|     406795103|American Flyer Lu...|         Luggage|          5|            0|          0|   N|                Y|          Five Stars|Love love love my...| 2015-08-31|\n",
            "|         US|   46124918|R2OOWJSFPDDA03|B00NJYB2JM|     255715129|Victoriatourist V...|         Luggage|          3|            0|          1|   N|                Y|         Three Stars|Smaller than expe...| 2015-08-31|\n",
            "|         US|     200537|R3EED64ZPXGZ92|B00LD0A4N4|     244117760|EcoCity Vintage C...|         Luggage|          3|            0|          0|   N|                Y|         Three Stars|Within the first ...| 2015-08-31|\n",
            "|         US|    1403856|R1BI8NF6YRH5HD|B00N5GVF6O|     626808161|Bolang Water Resi...|         Luggage|          5|            0|          0|   N|                Y|     Laptop backpack|Nice nice sturdy ...| 2015-08-31|\n",
            "|         US|    8201781| RUD7SDRQTAVMC|B00C75KZPQ|     176437087|Travelon Cosmetic...|         Luggage|          5|            0|          0|   N|                Y|           Fabulous!|Fabulous! Can use...| 2015-08-31|\n",
            "+-----------+-----------+--------------+----------+--------------+--------------------+----------------+-----------+-------------+-----------+----+-----------------+--------------------+--------------------+-----------+\n",
            "only showing top 20 rows\n",
            "\n"
          ],
          "name": "stdout"
        }
      ]
    },
    {
      "cell_type": "code",
      "metadata": {
        "colab": {
          "base_uri": "https://localhost:8080/"
        },
        "id": "vpc9bQXalia8",
        "outputId": "6726bca7-cae9-4896-c8c2-36e06898d88b"
      },
      "source": [
        "# Outputting the number of rows\n",
        "spark_df.count()"
      ],
      "execution_count": 17,
      "outputs": [
        {
          "output_type": "execute_result",
          "data": {
            "text/plain": [
              "348657"
            ]
          },
          "metadata": {
            "tags": []
          },
          "execution_count": 17
        }
      ]
    },
    {
      "cell_type": "markdown",
      "metadata": {
        "id": "47sOSHAGoKy0"
      },
      "source": [
        "# Transform to match the table schema"
      ]
    },
    {
      "cell_type": "code",
      "metadata": {
        "colab": {
          "base_uri": "https://localhost:8080/"
        },
        "id": "X6tLt-W1oIhY",
        "outputId": "c2e86a8e-859f-4645-b353-9cd883d0295c"
      },
      "source": [
        "# Removed duplicate rows\n",
        "spark_df = spark_df.dropDuplicates()\n",
        "spark_df.count()"
      ],
      "execution_count": 18,
      "outputs": [
        {
          "output_type": "execute_result",
          "data": {
            "text/plain": [
              "348657"
            ]
          },
          "metadata": {
            "tags": []
          },
          "execution_count": 18
        }
      ]
    },
    {
      "cell_type": "code",
      "metadata": {
        "colab": {
          "base_uri": "https://localhost:8080/"
        },
        "id": "T_w7D7Wqpbt0",
        "outputId": "37b2e7c8-8354-4ea3-da5f-fa6085dc9737"
      },
      "source": [
        "# Keep and rename necessary columns\n",
        "review_id_df = spark_df.select([\"review_id\", \"customer_id\", \"product_id\", \"product_parent\", \"review_date\"])\n",
        "review_id_df.show()"
      ],
      "execution_count": 19,
      "outputs": [
        {
          "output_type": "stream",
          "text": [
            "+--------------+-----------+----------+--------------+-----------+\n",
            "|     review_id|customer_id|product_id|product_parent|review_date|\n",
            "+--------------+-----------+----------+--------------+-----------+\n",
            "| RBD5TFCXJCAFY|   24170812|B00ICD5Q9M|     185207508| 2015-08-31|\n",
            "|R1MCDDFVHB3X8P|   42610491|B004T2ZVPO|     961936464| 2015-08-31|\n",
            "|R10HZY3WOJJZO3|   33703156|B002AS2EQ8|     687301761| 2015-08-30|\n",
            "| R4KYVY5EMU2KA|   43687072|B00ICD5ZHU|     293482550| 2015-08-30|\n",
            "|R1DTTWJF8FYBL1|    2199737|B000SKXRGQ|     940720910| 2015-08-30|\n",
            "|R33T9I792ZC6GC|   12815344|B00NE7GDWA|      58174354| 2015-08-30|\n",
            "|R3IWKYPCMKCE7J|   50497994|B00K1MGD0S|     458369720| 2015-08-30|\n",
            "|R3P3XEHE1N4WWM|   14439583|B00C967F1U|     396288456| 2015-08-29|\n",
            "|R1CMNW1EVU36K9|   14469453|B0109ZA5EQ|      97139436| 2015-08-29|\n",
            "|R1KUPC2HFJ4M9B|   26127510|B00O60WW9W|     541224447| 2015-08-29|\n",
            "|R1624GG6NZRKD1|   22232730|B00RG2DSI6|     336578846| 2015-08-28|\n",
            "|R2B2RPBZOKGWA4|     110900|B013GCN4FQ|     622815633| 2015-08-28|\n",
            "|R15U77KMVQDHGK|    1343329|B008VU8634|      61039430| 2015-08-28|\n",
            "|R1XMJSPEMZSN5G|    9876523|B00XL8KK8A|     999248850| 2015-08-27|\n",
            "|R3A74GL42BW26Z|   31417894|B00BS85OZ4|     300793134| 2015-08-27|\n",
            "|R3PL99MH44HA65|    2044192|B006HMPV4A|     283006789| 2015-08-27|\n",
            "|R31PYRWBAV4L9F|   15831956|B00IT05XB4|     787702425| 2015-08-26|\n",
            "|R11P9YDR8SC4YZ|   11007352|B00T8OGJ7W|     589627492| 2015-08-26|\n",
            "|R1NY000CQPHPXY|   37004978|B00V7M5I8E|     756316657| 2015-08-26|\n",
            "|R3TGS28RTDSFAN|   12095753|B00LZXPJ9S|     833214308| 2015-08-25|\n",
            "+--------------+-----------+----------+--------------+-----------+\n",
            "only showing top 20 rows\n",
            "\n"
          ],
          "name": "stdout"
        }
      ]
    },
    {
      "cell_type": "code",
      "metadata": {
        "colab": {
          "base_uri": "https://localhost:8080/"
        },
        "id": "WpAuomRBqwZH",
        "outputId": "534f9920-cd15-433a-ce13-d15fb88ffaca"
      },
      "source": [
        "# For Products table\n",
        "products_df = spark_df.select([\"product_id\", \"product_title\"])\n",
        "products_df.show()"
      ],
      "execution_count": 20,
      "outputs": [
        {
          "output_type": "stream",
          "text": [
            "+----------+--------------------+\n",
            "|product_id|       product_title|\n",
            "+----------+--------------------+\n",
            "|B00ICD5Q9M|Travelon Anti-The...|\n",
            "|B004T2ZVPO|Organized Travel ...|\n",
            "|B002AS2EQ8|Olympia Luggage  ...|\n",
            "|B00ICD5ZHU|Travelon Anti-The...|\n",
            "|B000SKXRGQ|Lewis N. Clark De...|\n",
            "|B00NE7GDWA|Berchirly Small V...|\n",
            "|B00K1MGD0S|Filson Dry Duffle...|\n",
            "|B00C967F1U|Skyway Luggage Si...|\n",
            "|B0109ZA5EQ|Passport Holder- ...|\n",
            "|B00O60WW9W|Kids Backpack, ic...|\n",
            "|B00RG2DSI6|Hanging Cosmetic ...|\n",
            "|B013GCN4FQ|Demarkt Casual Fu...|\n",
            "|B008VU8634|Herschel Supply C...|\n",
            "|B00XL8KK8A|Witzman Men's Ret...|\n",
            "|B00BS85OZ4|Horizon Dance Rel...|\n",
            "|B006HMPV4A|Everest Cooler Lu...|\n",
            "|B00IT05XB4|Tommy Hilfiger Mi...|\n",
            "|B00T8OGJ7W|Floto Venezia Oli...|\n",
            "|B00V7M5I8E|Alice Hot Selling...|\n",
            "|B00LZXPJ9S|Canvas 13\" Laptop...|\n",
            "+----------+--------------------+\n",
            "only showing top 20 rows\n",
            "\n"
          ],
          "name": "stdout"
        }
      ]
    },
    {
      "cell_type": "code",
      "metadata": {
        "colab": {
          "base_uri": "https://localhost:8080/"
        },
        "id": "mGe5v7UmrEBa",
        "outputId": "69667972-9efb-4ac2-d37f-cd0acbe04108"
      },
      "source": [
        "# For Customers table\n",
        "customers_df = spark_df.groupby(\"customer_id\").agg({\n",
        "    \"customer_id\": \"count\"\n",
        "    }).withColumnRenamed(\"count(customer_id)\", \"customer_count\")\n",
        "customers_df.show()"
      ],
      "execution_count": 21,
      "outputs": [
        {
          "output_type": "stream",
          "text": [
            "+-----------+--------------+\n",
            "|customer_id|customer_count|\n",
            "+-----------+--------------+\n",
            "|   22670687|             1|\n",
            "|   37872518|             1|\n",
            "|    2313517|             2|\n",
            "|   51699315|             3|\n",
            "|    2858831|             1|\n",
            "|   32705839|             2|\n",
            "|   18914339|             1|\n",
            "|   12716063|             1|\n",
            "|   29867038|             1|\n",
            "|   50345937|             1|\n",
            "|   12014780|             1|\n",
            "|   49012244|             1|\n",
            "|   25180989|             2|\n",
            "|    7551037|             1|\n",
            "|   31216481|             1|\n",
            "|   52582489|             1|\n",
            "|   17767270|             1|\n",
            "|   21012418|             6|\n",
            "|   49882810|             3|\n",
            "|   32104141|             1|\n",
            "+-----------+--------------+\n",
            "only showing top 20 rows\n",
            "\n"
          ],
          "name": "stdout"
        }
      ]
    },
    {
      "cell_type": "code",
      "metadata": {
        "colab": {
          "base_uri": "https://localhost:8080/"
        },
        "id": "HkIrJXfnrykX",
        "outputId": "8b4ce280-1b20-482f-c2d2-830218985316"
      },
      "source": [
        "# For Review table\n",
        "reviews_df = spark_df.select([\"review_id\", \"review_headline\", \"review_body\"])\n",
        "reviews_df.show()"
      ],
      "execution_count": 22,
      "outputs": [
        {
          "output_type": "stream",
          "text": [
            "+--------------+--------------------+--------------------+\n",
            "|     review_id|     review_headline|         review_body|\n",
            "+--------------+--------------------+--------------------+\n",
            "| RBD5TFCXJCAFY|        Works great!|Works great, soli...|\n",
            "|R1MCDDFVHB3X8P|It seems pretty d...|Very cute and col...|\n",
            "|R10HZY3WOJJZO3|          Five Stars|Very happy with t...|\n",
            "| R4KYVY5EMU2KA|          Five Stars|Well made; just w...|\n",
            "|R1DTTWJF8FYBL1|... another one w...|I had another one...|\n",
            "|R33T9I792ZC6GC| Great  weekend bag.|My new weekend ba...|\n",
            "|R3IWKYPCMKCE7J|          Five Stars|Amazing bag, I us...|\n",
            "|R3P3XEHE1N4WWM|Does What it is S...|Decent low-cost t...|\n",
            "|R1CMNW1EVU36K9|Lots of places to...|This is a really ...|\n",
            "|R1KUPC2HFJ4M9B|           Very cute|I got this for my...|\n",
            "|R1624GG6NZRKD1|          Five Stars|Convenient and or...|\n",
            "|R2B2RPBZOKGWA4|          Four Stars|Super fast shippi...|\n",
            "|R15U77KMVQDHGK|          Five Stars|Love it! Herschel...|\n",
            "|R1XMJSPEMZSN5G|Versatile and wel...|Sturdy and luggab...|\n",
            "|R3A74GL42BW26Z|but so far I love...|Only been using t...|\n",
            "|R3PL99MH44HA65|Perfect size and ...|I've being using ...|\n",
            "|R31PYRWBAV4L9F|          Five Stars|           The best.|\n",
            "|R11P9YDR8SC4YZ|and the recipient...|The briefcase was...|\n",
            "|R1NY000CQPHPXY|            One Star|         NOT SO NICE|\n",
            "|R3TGS28RTDSFAN|  excellent quality!|Perfect backpack....|\n",
            "+--------------+--------------------+--------------------+\n",
            "only showing top 20 rows\n",
            "\n"
          ],
          "name": "stdout"
        }
      ]
    },
    {
      "cell_type": "code",
      "metadata": {
        "colab": {
          "base_uri": "https://localhost:8080/"
        },
        "id": "XJxCtbUFsBtc",
        "outputId": "ada2d888-57bb-4a88-b13b-8c2a1c53d3fe"
      },
      "source": [
        "# For Vine table\n",
        "vine_df = spark_df.select([\"review_id\", \"star_rating\", \"helpful_votes\", \"total_votes\", \"vine\"])\n",
        "vine_df.show()"
      ],
      "execution_count": 24,
      "outputs": [
        {
          "output_type": "stream",
          "text": [
            "+--------------+-----------+-------------+-----------+----+\n",
            "|     review_id|star_rating|helpful_votes|total_votes|vine|\n",
            "+--------------+-----------+-------------+-----------+----+\n",
            "| RBD5TFCXJCAFY|          5|            0|          0|   N|\n",
            "|R1MCDDFVHB3X8P|          4|            0|          0|   N|\n",
            "|R10HZY3WOJJZO3|          5|            3|          4|   N|\n",
            "| R4KYVY5EMU2KA|          5|            1|          1|   N|\n",
            "|R1DTTWJF8FYBL1|          5|            0|          0|   N|\n",
            "|R33T9I792ZC6GC|          5|            0|          0|   N|\n",
            "|R3IWKYPCMKCE7J|          5|            0|          0|   N|\n",
            "|R3P3XEHE1N4WWM|          4|            0|          0|   N|\n",
            "|R1CMNW1EVU36K9|          5|            2|          2|   N|\n",
            "|R1KUPC2HFJ4M9B|          5|            3|          3|   N|\n",
            "|R1624GG6NZRKD1|          5|            0|          0|   N|\n",
            "|R2B2RPBZOKGWA4|          4|            0|          1|   N|\n",
            "|R15U77KMVQDHGK|          5|            0|          0|   N|\n",
            "|R1XMJSPEMZSN5G|          5|            1|          1|   N|\n",
            "|R3A74GL42BW26Z|          5|            0|          0|   N|\n",
            "|R3PL99MH44HA65|          5|            0|          0|   N|\n",
            "|R31PYRWBAV4L9F|          5|            0|          0|   N|\n",
            "|R11P9YDR8SC4YZ|          5|            0|          0|   N|\n",
            "|R1NY000CQPHPXY|          1|            0|          0|   N|\n",
            "|R3TGS28RTDSFAN|          5|            0|          0|   N|\n",
            "+--------------+-----------+-------------+-----------+----+\n",
            "only showing top 20 rows\n",
            "\n"
          ],
          "name": "stdout"
        }
      ]
    },
    {
      "cell_type": "markdown",
      "metadata": {
        "id": "1X75_qIVsLx3"
      },
      "source": [
        "# Load data to AWS RDS"
      ]
    },
    {
      "cell_type": "code",
      "metadata": {
        "colab": {
          "base_uri": "https://localhost:8080/"
        },
        "id": "Sl16rjqguiix",
        "outputId": "d464de07-e1bd-4f4d-d4db-350cbc287d59"
      },
      "source": [
        "server = \"big-data-challenge-db.cifpjfaljnoi.ca-central-1.rds.amazonaws.com\"\n",
        "database = \"postgres\"\n",
        "port = \"5432\"\n",
        "username = \"postgres\"\n",
        "password = \"postgres\"\n",
        "\n",
        "conn = f\"postgres://{username}:{password}@{server}:{port}/{database}\"\n",
        "\n",
        "from sqlalchemy import create_engine \n",
        "engine = create_engine(conn, echo=False)"
      ],
      "execution_count": 25,
      "outputs": [
        {
          "output_type": "stream",
          "text": [
            "/usr/local/lib/python3.7/dist-packages/psycopg2/__init__.py:144: UserWarning: The psycopg2 wheel package will be renamed from release 2.8; in order to keep installing from binary please use \"pip install psycopg2-binary\" instead. For details see: <http://initd.org/psycopg/docs/install.html#binary-install-from-pypi>.\n",
            "  \"\"\")\n"
          ],
          "name": "stderr"
        }
      ]
    },
    {
      "cell_type": "code",
      "metadata": {
        "colab": {
          "base_uri": "https://localhost:8080/",
          "height": 198
        },
        "id": "JMgo_9LRvPM6",
        "outputId": "86f215f8-b6d3-40c4-e75b-b22417beaec5"
      },
      "source": [
        "# Review ID table\n",
        "pd_review_id_df = review_id_df.toPandas()\n",
        "pd_review_id_df.head()"
      ],
      "execution_count": 26,
      "outputs": [
        {
          "output_type": "execute_result",
          "data": {
            "text/html": [
              "<div>\n",
              "<style scoped>\n",
              "    .dataframe tbody tr th:only-of-type {\n",
              "        vertical-align: middle;\n",
              "    }\n",
              "\n",
              "    .dataframe tbody tr th {\n",
              "        vertical-align: top;\n",
              "    }\n",
              "\n",
              "    .dataframe thead th {\n",
              "        text-align: right;\n",
              "    }\n",
              "</style>\n",
              "<table border=\"1\" class=\"dataframe\">\n",
              "  <thead>\n",
              "    <tr style=\"text-align: right;\">\n",
              "      <th></th>\n",
              "      <th>review_id</th>\n",
              "      <th>customer_id</th>\n",
              "      <th>product_id</th>\n",
              "      <th>product_parent</th>\n",
              "      <th>review_date</th>\n",
              "    </tr>\n",
              "  </thead>\n",
              "  <tbody>\n",
              "    <tr>\n",
              "      <th>0</th>\n",
              "      <td>RBD5TFCXJCAFY</td>\n",
              "      <td>24170812</td>\n",
              "      <td>B00ICD5Q9M</td>\n",
              "      <td>185207508</td>\n",
              "      <td>2015-08-31</td>\n",
              "    </tr>\n",
              "    <tr>\n",
              "      <th>1</th>\n",
              "      <td>R1MCDDFVHB3X8P</td>\n",
              "      <td>42610491</td>\n",
              "      <td>B004T2ZVPO</td>\n",
              "      <td>961936464</td>\n",
              "      <td>2015-08-31</td>\n",
              "    </tr>\n",
              "    <tr>\n",
              "      <th>2</th>\n",
              "      <td>R10HZY3WOJJZO3</td>\n",
              "      <td>33703156</td>\n",
              "      <td>B002AS2EQ8</td>\n",
              "      <td>687301761</td>\n",
              "      <td>2015-08-30</td>\n",
              "    </tr>\n",
              "    <tr>\n",
              "      <th>3</th>\n",
              "      <td>R4KYVY5EMU2KA</td>\n",
              "      <td>43687072</td>\n",
              "      <td>B00ICD5ZHU</td>\n",
              "      <td>293482550</td>\n",
              "      <td>2015-08-30</td>\n",
              "    </tr>\n",
              "    <tr>\n",
              "      <th>4</th>\n",
              "      <td>R1DTTWJF8FYBL1</td>\n",
              "      <td>2199737</td>\n",
              "      <td>B000SKXRGQ</td>\n",
              "      <td>940720910</td>\n",
              "      <td>2015-08-30</td>\n",
              "    </tr>\n",
              "  </tbody>\n",
              "</table>\n",
              "</div>"
            ],
            "text/plain": [
              "        review_id customer_id  product_id product_parent review_date\n",
              "0   RBD5TFCXJCAFY    24170812  B00ICD5Q9M      185207508  2015-08-31\n",
              "1  R1MCDDFVHB3X8P    42610491  B004T2ZVPO      961936464  2015-08-31\n",
              "2  R10HZY3WOJJZO3    33703156  B002AS2EQ8      687301761  2015-08-30\n",
              "3   R4KYVY5EMU2KA    43687072  B00ICD5ZHU      293482550  2015-08-30\n",
              "4  R1DTTWJF8FYBL1     2199737  B000SKXRGQ      940720910  2015-08-30"
            ]
          },
          "metadata": {
            "tags": []
          },
          "execution_count": 26
        }
      ]
    },
    {
      "cell_type": "code",
      "metadata": {
        "colab": {
          "base_uri": "https://localhost:8080/",
          "height": 228
        },
        "id": "T27A56z1vnYq",
        "outputId": "b2188413-9f12-4d8c-b2a5-875881346339"
      },
      "source": [
        "pd_review_id_df.set_index(\"review_id\", inplace=True)\n",
        "pd_review_id_df.head()"
      ],
      "execution_count": 27,
      "outputs": [
        {
          "output_type": "execute_result",
          "data": {
            "text/html": [
              "<div>\n",
              "<style scoped>\n",
              "    .dataframe tbody tr th:only-of-type {\n",
              "        vertical-align: middle;\n",
              "    }\n",
              "\n",
              "    .dataframe tbody tr th {\n",
              "        vertical-align: top;\n",
              "    }\n",
              "\n",
              "    .dataframe thead th {\n",
              "        text-align: right;\n",
              "    }\n",
              "</style>\n",
              "<table border=\"1\" class=\"dataframe\">\n",
              "  <thead>\n",
              "    <tr style=\"text-align: right;\">\n",
              "      <th></th>\n",
              "      <th>customer_id</th>\n",
              "      <th>product_id</th>\n",
              "      <th>product_parent</th>\n",
              "      <th>review_date</th>\n",
              "    </tr>\n",
              "    <tr>\n",
              "      <th>review_id</th>\n",
              "      <th></th>\n",
              "      <th></th>\n",
              "      <th></th>\n",
              "      <th></th>\n",
              "    </tr>\n",
              "  </thead>\n",
              "  <tbody>\n",
              "    <tr>\n",
              "      <th>RBD5TFCXJCAFY</th>\n",
              "      <td>24170812</td>\n",
              "      <td>B00ICD5Q9M</td>\n",
              "      <td>185207508</td>\n",
              "      <td>2015-08-31</td>\n",
              "    </tr>\n",
              "    <tr>\n",
              "      <th>R1MCDDFVHB3X8P</th>\n",
              "      <td>42610491</td>\n",
              "      <td>B004T2ZVPO</td>\n",
              "      <td>961936464</td>\n",
              "      <td>2015-08-31</td>\n",
              "    </tr>\n",
              "    <tr>\n",
              "      <th>R10HZY3WOJJZO3</th>\n",
              "      <td>33703156</td>\n",
              "      <td>B002AS2EQ8</td>\n",
              "      <td>687301761</td>\n",
              "      <td>2015-08-30</td>\n",
              "    </tr>\n",
              "    <tr>\n",
              "      <th>R4KYVY5EMU2KA</th>\n",
              "      <td>43687072</td>\n",
              "      <td>B00ICD5ZHU</td>\n",
              "      <td>293482550</td>\n",
              "      <td>2015-08-30</td>\n",
              "    </tr>\n",
              "    <tr>\n",
              "      <th>R1DTTWJF8FYBL1</th>\n",
              "      <td>2199737</td>\n",
              "      <td>B000SKXRGQ</td>\n",
              "      <td>940720910</td>\n",
              "      <td>2015-08-30</td>\n",
              "    </tr>\n",
              "  </tbody>\n",
              "</table>\n",
              "</div>"
            ],
            "text/plain": [
              "               customer_id  product_id product_parent review_date\n",
              "review_id                                                        \n",
              "RBD5TFCXJCAFY     24170812  B00ICD5Q9M      185207508  2015-08-31\n",
              "R1MCDDFVHB3X8P    42610491  B004T2ZVPO      961936464  2015-08-31\n",
              "R10HZY3WOJJZO3    33703156  B002AS2EQ8      687301761  2015-08-30\n",
              "R4KYVY5EMU2KA     43687072  B00ICD5ZHU      293482550  2015-08-30\n",
              "R1DTTWJF8FYBL1     2199737  B000SKXRGQ      940720910  2015-08-30"
            ]
          },
          "metadata": {
            "tags": []
          },
          "execution_count": 27
        }
      ]
    },
    {
      "cell_type": "code",
      "metadata": {
        "id": "h5VUDsYfvz4W"
      },
      "source": [
        "pd_review_id_df.to_sql(\"review_id_table\", con=engine)"
      ],
      "execution_count": null,
      "outputs": []
    },
    {
      "cell_type": "code",
      "metadata": {
        "id": "YwCLew_0xOM2"
      },
      "source": [
        "# Product table\n",
        "pd_products_df = products_df.toPandas()\n",
        "pd_products_df.set_index(\"product_id \", inplace=True)\n",
        "pd_products_df.head()"
      ],
      "execution_count": null,
      "outputs": []
    },
    {
      "cell_type": "code",
      "metadata": {
        "id": "RR4v7EzBxkrq"
      },
      "source": [
        "pd_products_df.to_sql(\"products\", con=engine)"
      ],
      "execution_count": null,
      "outputs": []
    },
    {
      "cell_type": "code",
      "metadata": {
        "id": "gsTYugrRxuCR"
      },
      "source": [
        "# Customers table\n",
        "pd_customers_df = customers_df.toPandas()\n",
        "pd_customers_df.set_index(\"customer_id\", inplace=True)\n",
        "pd_customers_df.head()"
      ],
      "execution_count": null,
      "outputs": []
    },
    {
      "cell_type": "code",
      "metadata": {
        "id": "gXrMp0tRx3nl"
      },
      "source": [
        "pd_customers_df.to_sql(\"customers\", con=engine)"
      ],
      "execution_count": null,
      "outputs": []
    },
    {
      "cell_type": "code",
      "metadata": {
        "id": "vfxc0O-mx61y"
      },
      "source": [
        "# Reviews table\n",
        "pd_reviews_df = reviews_df.toPandas()\n",
        "pd_reviews_df.set_index(\"review_id\", inplace=True)\n",
        "pd_reviews_df.head()"
      ],
      "execution_count": null,
      "outputs": []
    },
    {
      "cell_type": "code",
      "metadata": {
        "id": "CNalLvSvyWCc"
      },
      "source": [
        "pd_reviews_df.to_sql(\"reviews\", con=engine)"
      ],
      "execution_count": null,
      "outputs": []
    },
    {
      "cell_type": "code",
      "metadata": {
        "id": "3I42Ryq9yayS"
      },
      "source": [
        "# Vine table\n",
        "pd_vine_df = vine_df.toPandas()\n",
        "pd_vine_df.set_index(\"review_id\", inplace=True)\n",
        "pd_vine_df.head()"
      ],
      "execution_count": null,
      "outputs": []
    },
    {
      "cell_type": "code",
      "metadata": {
        "id": "BE77uUyHylkS"
      },
      "source": [
        "pd_vine_df.to_sql(\"vine_table\", con=engine)"
      ],
      "execution_count": null,
      "outputs": []
    }
  ]
}