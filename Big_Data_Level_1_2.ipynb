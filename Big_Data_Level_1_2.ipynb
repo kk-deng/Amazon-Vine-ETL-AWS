{
  "nbformat": 4,
  "nbformat_minor": 0,
  "metadata": {
    "colab": {
      "name": "Big Data Level 1 -2.ipynb",
      "provenance": [],
      "collapsed_sections": [],
      "authorship_tag": "ABX9TyNraV5DmbyDFhOZBeoBWN00",
      "include_colab_link": true
    },
    "kernelspec": {
      "name": "python3",
      "display_name": "Python 3"
    },
    "language_info": {
      "name": "python"
    }
  },
  "cells": [
    {
      "cell_type": "markdown",
      "metadata": {
        "id": "view-in-github",
        "colab_type": "text"
      },
      "source": [
        "<a href=\"https://colab.research.google.com/github/kk-deng/Big-Data-Challenge/blob/main/Big_Data_Level_1_2.ipynb\" target=\"_parent\"><img src=\"https://colab.research.google.com/assets/colab-badge.svg\" alt=\"Open In Colab\"/></a>"
      ]
    },
    {
      "cell_type": "code",
      "metadata": {
        "colab": {
          "base_uri": "https://localhost:8080/"
        },
        "id": "XcuXYTPwsnaW",
        "outputId": "93671990-f683-4b51-e2ad-668dd3a5587b"
      },
      "source": [
        "# Config for Spark\n",
        "!apt-get install openjdk-8-jdk-headless -qq > /dev/null\n",
        "!wget -q https://www-us.apache.org/dist/spark/spark-3.0.2/spark-3.0.2-bin-hadoop2.7.tgz\n",
        "!tar xf spark-3.0.2-bin-hadoop2.7.tgz\n",
        "!pip install -q findspark\n",
        "\n",
        "# Set Environment Variables\n",
        "import os\n",
        "os.environ[\"JAVA_HOME\"] = \"/usr/lib/jvm/java-8-openjdk-amd64\"\n",
        "os.environ[\"SPARK_HOME\"] = \"/content/spark-3.0.2-bin-hadoop2.7\"\n",
        "\n",
        "# Start a SparkSession\n",
        "import findspark\n",
        "findspark.init()\n",
        "from pyspark.sql import SparkSession \n",
        "\n",
        "spark = SparkSession.builder.appName(\"Basics\").config(\"spark.driver.extraClassPath\",\"/content/postgresql-42.2.9.jar\").getOrCreate()\n",
        "\n",
        "# For connection to Postgres \n",
        "!wget https://jdbc.postgresql.org/download/postgresql-42.2.9.jar"
      ],
      "execution_count": 1,
      "outputs": [
        {
          "output_type": "stream",
          "text": [
            "--2021-03-21 02:53:00--  https://jdbc.postgresql.org/download/postgresql-42.2.9.jar\n",
            "Resolving jdbc.postgresql.org (jdbc.postgresql.org)... 72.32.157.228, 2001:4800:3e1:1::228\n",
            "Connecting to jdbc.postgresql.org (jdbc.postgresql.org)|72.32.157.228|:443... connected.\n",
            "HTTP request sent, awaiting response... 200 OK\n",
            "Length: 914037 (893K) [application/java-archive]\n",
            "Saving to: ‘postgresql-42.2.9.jar’\n",
            "\n",
            "postgresql-42.2.9.j 100%[===================>] 892.61K  --.-KB/s    in 0.09s   \n",
            "\n",
            "2021-03-21 02:53:00 (10.0 MB/s) - ‘postgresql-42.2.9.jar’ saved [914037/914037]\n",
            "\n"
          ],
          "name": "stdout"
        }
      ]
    },
    {
      "cell_type": "code",
      "metadata": {
        "colab": {
          "base_uri": "https://localhost:8080/"
        },
        "id": "24PoduDOst-q",
        "outputId": "5bc16241-8adb-449f-ecd2-5ce3e32a48f5"
      },
      "source": [
        "url = \"https://s3.amazonaws.com/amazon-reviews-pds/tsv/amazon_reviews_us_Gift_Card_v1_00.tsv.gz\"\n",
        "\n",
        "from pyspark import SparkFiles\n",
        "spark.sparkContext.addFile(url)\n",
        "spark_df = spark.read.csv(SparkFiles.get(\"amazon_reviews_us_Gift_Card_v1_00.tsv.gz\"), sep=\"\\t\", header=True)\n",
        "spark_df.show()"
      ],
      "execution_count": 3,
      "outputs": [
        {
          "output_type": "stream",
          "text": [
            "+-----------+-----------+--------------+----------+--------------+--------------------+----------------+-----------+-------------+-----------+----+-----------------+--------------------+--------------------+-----------+\n",
            "|marketplace|customer_id|     review_id|product_id|product_parent|       product_title|product_category|star_rating|helpful_votes|total_votes|vine|verified_purchase|     review_headline|         review_body|review_date|\n",
            "+-----------+-----------+--------------+----------+--------------+--------------------+----------------+-----------+-------------+-----------+----+-----------------+--------------------+--------------------+-----------+\n",
            "|         US|   24371595|R27ZP1F1CD0C3Y|B004LLIL5A|     346014806|Amazon eGift Card...|       Gift Card|          5|            0|          0|   N|                Y|          Five Stars|Great birthday gi...| 2015-08-31|\n",
            "|         US|   42489718| RJ7RSBCHUDNNE|B004LLIKVU|     473048287|Amazon.com eGift ...|       Gift Card|          5|            0|          0|   N|                Y|Gift card for the...|It's an Amazon gi...| 2015-08-31|\n",
            "|         US|     861463|R1HVYBSKLQJI5S|B00IX1I3G6|     926539283|Amazon.com Gift C...|       Gift Card|          5|            0|          0|   N|                Y|          Five Stars|                Good| 2015-08-31|\n",
            "|         US|   25283295|R2HAXF0IIYQBIR|B00IX1I3G6|     926539283|Amazon.com Gift C...|       Gift Card|          1|            0|          0|   N|                Y|            One Star|                Fair| 2015-08-31|\n",
            "|         US|     397970| RNYLPX611NB7Q|B005ESMGV4|     379368939|Amazon.com Gift C...|       Gift Card|          5|            0|          0|   N|                Y|          Five Stars|I can't believe h...| 2015-08-31|\n",
            "|         US|   18513645|R3ALA9XXMBEDZR|B004KNWWU4|     326384774|Amazon Gift Card ...|       Gift Card|          5|            0|          0|   N|                Y|Perfect for most ...|Perfect!  Nice & ...| 2015-08-31|\n",
            "|         US|   22484620|R3R8PHAVJFTPDF|B004LLIKVU|     473048287|Amazon.com eGift ...|       Gift Card|          5|            0|          0|   N|                Y|          Five Stars|            excelent| 2015-08-31|\n",
            "|         US|   14765851|R18WWEK8OIXE30|BT00CTP2EE|     775486538|Amazon.com Gift C...|       Gift Card|          5|            0|          0|   N|                Y|          Five Stars|Great and Safe Gi...| 2015-08-31|\n",
            "|         US|   18751931|R1EGUNQON2J277|B004LLIKVU|     473048287|Amazon.com eGift ...|       Gift Card|          1|            0|          0|   N|                Y|            One Star|       What?????????| 2015-08-31|\n",
            "|         US|   15100528|R21Z4M4L98CPU2|B004W8D102|     595099956|Amazon Gift Card ...|       Gift Card|          5|            0|          0|   N|                Y|          Five Stars|This was just too...| 2015-08-31|\n",
            "|         US|    3559726| R6JH7A117FHFA|B004LLIKVU|     473048287|Amazon.com eGift ...|       Gift Card|          5|            0|          0|   N|                Y|          Five Stars|                Bien| 2015-08-31|\n",
            "|         US|   23413911|R1XZHS8M1GCGI7|B004KNWWU4|     326384774|Amazon Gift Card ...|       Gift Card|          5|            1|          1|   N|                Y|         Always good|Easy to print fro...| 2015-08-31|\n",
            "|         US|    2026222|R1DAI0N03SKRJN|B004LLIKVU|     473048287|Amazon.com eGift ...|       Gift Card|          5|            1|          1|   N|                Y|          Five Stars|Amazing with 10 d...| 2015-08-31|\n",
            "|         US|   32956435|R2F6SKZOEYQRU3|B004LLIKVU|     473048287|Amazon.com eGift ...|       Gift Card|          5|            0|          0|   N|                N|          Five Stars|Remember Matthew ...| 2015-08-31|\n",
            "|         US|   20241560| RIBOP6OEAZA47|B00H5BNLUS|     637715957|Amazon eGift Card...|       Gift Card|          5|            1|          1|   N|                Y|          Five Stars|                good| 2015-08-31|\n",
            "|         US|   10670435|R15H8E7WD6XD29|B004KNWX6C|     763371347|Amazon Gift Card ...|       Gift Card|          5|            0|          0|   N|                Y|          Five Stars|Awesome way to se...| 2015-08-31|\n",
            "|         US|   48872127| RVN4P3RU4F8IE|BT00CTOYC0|     506740729|Amazon.com $15 Gi...|       Gift Card|          5|            0|          0|   N|                Y|Quick Solution fo...|I love that I hav...| 2015-08-31|\n",
            "|         US|     460630| RCS8F9JCAAXC7|B004LLIKVU|     473048287|Amazon.com eGift ...|       Gift Card|          4|            0|          0|   N|                Y|          Four Stars|Good gift. Easy t...| 2015-08-31|\n",
            "|         US|   41238378| R6811C4E7UYL2|B00H5BMH44|      81025991|Amazon eGift Card...|       Gift Card|          5|            0|          0|   N|                Y|  Satisfied customer|Satisfied as usua...| 2015-08-31|\n",
            "|         US|   14222739|R196T0NZ73TYIM|B005ESMMKE|     459536087|Amazon.com Gift C...|       Gift Card|          5|            1|          1|   N|                Y|          Five Stars|                nice| 2015-08-31|\n",
            "+-----------+-----------+--------------+----------+--------------+--------------------+----------------+-----------+-------------+-----------+----+-----------------+--------------------+--------------------+-----------+\n",
            "only showing top 20 rows\n",
            "\n"
          ],
          "name": "stdout"
        }
      ]
    },
    {
      "cell_type": "code",
      "metadata": {
        "colab": {
          "base_uri": "https://localhost:8080/"
        },
        "id": "57nbZdzlsyMZ",
        "outputId": "bccdc0dd-a2ef-4836-9c83-897b7a087044"
      },
      "source": [
        "# Outputting the number of rows\n",
        "spark_df.count()"
      ],
      "execution_count": 4,
      "outputs": [
        {
          "output_type": "execute_result",
          "data": {
            "text/plain": [
              "149086"
            ]
          },
          "metadata": {
            "tags": []
          },
          "execution_count": 4
        }
      ]
    },
    {
      "cell_type": "markdown",
      "metadata": {
        "id": "PsSBZzbFtLI0"
      },
      "source": [
        "# Transform to match the table schema"
      ]
    },
    {
      "cell_type": "code",
      "metadata": {
        "colab": {
          "base_uri": "https://localhost:8080/"
        },
        "id": "OAbNam0vtL7L",
        "outputId": "ee6b4c47-5920-455c-e127-08936d1e9f82"
      },
      "source": [
        "# Removed duplicate rows\n",
        "spark_df = spark_df.dropDuplicates()\n",
        "spark_df.count()"
      ],
      "execution_count": 5,
      "outputs": [
        {
          "output_type": "execute_result",
          "data": {
            "text/plain": [
              "149086"
            ]
          },
          "metadata": {
            "tags": []
          },
          "execution_count": 5
        }
      ]
    },
    {
      "cell_type": "code",
      "metadata": {
        "colab": {
          "base_uri": "https://localhost:8080/"
        },
        "id": "MNa-yWm0tOpl",
        "outputId": "9db8d0f1-fd08-45ac-fc1b-d77aebbacfdd"
      },
      "source": [
        "# Keep and rename necessary columns\n",
        "review_id_df = spark_df.select([\"review_id\", \"customer_id\", \"product_id\", \"product_parent\", \"review_date\"])\n",
        "review_id_df.show()"
      ],
      "execution_count": 6,
      "outputs": [
        {
          "output_type": "stream",
          "text": [
            "+--------------+-----------+----------+--------------+-----------+\n",
            "|     review_id|customer_id|product_id|product_parent|review_date|\n",
            "+--------------+-----------+----------+--------------+-----------+\n",
            "| R611C9E5BW4HG|   27816201|B004LLIKVU|     473048287| 2015-08-29|\n",
            "| RXUB6Z9UQTAIP|   38605041|B00B2TFURQ|     527289417| 2015-08-26|\n",
            "|R139JH0UAW526N|   48625966|B0145WHYKC|     473048287| 2015-08-24|\n",
            "|R18SJ9HP6Z6STH|   16730696|B00BWDH368|     473048287| 2015-08-23|\n",
            "|R1BFDNRYHMMGP2|   10739227|B00A4EK2XW|     129396926| 2015-08-22|\n",
            "|R3E3NJPAI9AWCO|   14943029|B00BWDH368|     473048287| 2015-08-20|\n",
            "| R1V2NT6FJ98IC|   45686995|B00G4IURXW|     606034204| 2015-08-19|\n",
            "|R36UOU2AGKRGCL|   18487107|B004LLIKVU|     473048287| 2015-08-18|\n",
            "|R3KQOQ7DK5G1KA|     208401|B004LLIL7S|     420267372| 2015-08-18|\n",
            "|R189L6EAQ9BDZS|   14468969|B004LLIKVU|     473048287| 2015-08-16|\n",
            "|R2212GYLIVH8UO|    6679426|B00US9QTGM|     298664776| 2015-08-15|\n",
            "|R2E5JCHJZEWONV|   26913738|B00A48G0D4|     848703272| 2015-08-14|\n",
            "|R30P7PDF27UKLW|   41828421|B00IX1I3G6|     926539283| 2015-08-13|\n",
            "| RQOVC04LN1IL3|   15414608|B00CT77IQG|     473048287| 2015-08-13|\n",
            "|R2RIGINLTQE86M|   43836460|B007V6ETDK|     924812503| 2015-08-11|\n",
            "| RQSKB4AP31D0J|    3355577|B004LLIKVU|     473048287| 2015-08-10|\n",
            "| R386KJFKJ1K8P|   39691040|BT00CTOZG0|     600552264| 2015-08-08|\n",
            "|R30Z52K77RT6BJ|   10596887|B0066AZGJI|     480731329| 2015-08-03|\n",
            "|R28NFCKVX5WOQE|   16080573|B00XO1OZTY|     979524286| 2015-08-03|\n",
            "|R3JU4JFOTSB828|   44702295|B004KNWX80|     301341082| 2015-08-02|\n",
            "+--------------+-----------+----------+--------------+-----------+\n",
            "only showing top 20 rows\n",
            "\n"
          ],
          "name": "stdout"
        }
      ]
    },
    {
      "cell_type": "code",
      "metadata": {
        "colab": {
          "base_uri": "https://localhost:8080/"
        },
        "id": "Ww1CDjkvtcW_",
        "outputId": "3f3c8789-9afe-4514-ee86-e9e3bddce2f8"
      },
      "source": [
        "# For Products table\n",
        "products_df = spark_df.select([\"product_id\", \"product_title\"])\n",
        "products_df.show()"
      ],
      "execution_count": 7,
      "outputs": [
        {
          "output_type": "stream",
          "text": [
            "+----------+--------------------+\n",
            "|product_id|       product_title|\n",
            "+----------+--------------------+\n",
            "|B004LLIKVU|Amazon.com eGift ...|\n",
            "|B00B2TFURQ|Amazon Gift Card ...|\n",
            "|B0145WHYKC|Amazon.com eGift ...|\n",
            "|B00BWDH368|Amazon.com eGift ...|\n",
            "|B00A4EK2XW|Amazon eGift Card...|\n",
            "|B00BWDH368|Amazon.com eGift ...|\n",
            "|B00G4IURXW|Amazon eGift Card...|\n",
            "|B004LLIKVU|Amazon.com eGift ...|\n",
            "|B004LLIL7S|Amazon eGift Card...|\n",
            "|B004LLIKVU|Amazon.com eGift ...|\n",
            "|B00US9QTGM|    Amazon Allowance|\n",
            "|B00A48G0D4|Amazon eGift Card...|\n",
            "|B00IX1I3G6|Amazon.com Gift C...|\n",
            "|B00CT77IQG|Amazon.com eGift ...|\n",
            "|B007V6ETDK|Amazon eGift Card...|\n",
            "|B004LLIKVU|Amazon.com eGift ...|\n",
            "|BT00CTOZG0|Amazon.com $200 G...|\n",
            "|B0066AZGJI|Amazon eGift Card...|\n",
            "|B00XO1OZTY|Amazon eGift Card...|\n",
            "|B004KNWX80|Amazon Gift Card ...|\n",
            "+----------+--------------------+\n",
            "only showing top 20 rows\n",
            "\n"
          ],
          "name": "stdout"
        }
      ]
    },
    {
      "cell_type": "code",
      "metadata": {
        "colab": {
          "base_uri": "https://localhost:8080/"
        },
        "id": "rANMnrOmtjIn",
        "outputId": "8ea22355-d2c8-4266-d58e-e91b14dce3c1"
      },
      "source": [
        "# For Customers table\n",
        "customers_df = spark_df.groupby(\"customer_id\").agg({\n",
        "    \"customer_id\": \"count\"\n",
        "    }).withColumnRenamed(\"count(customer_id)\", \"customer_count\")\n",
        "customers_df.show()"
      ],
      "execution_count": 8,
      "outputs": [
        {
          "output_type": "stream",
          "text": [
            "+-----------+--------------+\n",
            "|customer_id|customer_count|\n",
            "+-----------+--------------+\n",
            "|   14943029|             1|\n",
            "|   18725832|             1|\n",
            "|   34013003|             1|\n",
            "|    1640914|             1|\n",
            "|   15529426|             1|\n",
            "|   40415835|             1|\n",
            "|   52911287|             1|\n",
            "|    2382013|             1|\n",
            "|    2271984|             1|\n",
            "|    8874786|             1|\n",
            "|    1258580|             1|\n",
            "|   29623200|             1|\n",
            "|   50549783|             1|\n",
            "|   16117964|             1|\n",
            "|   44184246|             1|\n",
            "|   26426615|             1|\n",
            "|   51033380|             1|\n",
            "|   13903041|             1|\n",
            "|   15674100|             1|\n",
            "|   51695279|             1|\n",
            "+-----------+--------------+\n",
            "only showing top 20 rows\n",
            "\n"
          ],
          "name": "stdout"
        }
      ]
    },
    {
      "cell_type": "code",
      "metadata": {
        "colab": {
          "base_uri": "https://localhost:8080/"
        },
        "id": "lZ0W3HGVtlEA",
        "outputId": "c0708361-f762-4bca-c865-6ebe8a3672dd"
      },
      "source": [
        "# For Review table\n",
        "reviews_df = spark_df.select([\"review_id\", \"review_headline\", \"review_body\"])\n",
        "reviews_df.show()"
      ],
      "execution_count": 9,
      "outputs": [
        {
          "output_type": "stream",
          "text": [
            "+--------------+--------------------+--------------------+\n",
            "|     review_id|     review_headline|         review_body|\n",
            "+--------------+--------------------+--------------------+\n",
            "| R611C9E5BW4HG|               great|        Classic gift|\n",
            "| RXUB6Z9UQTAIP|Wonderful instant...|I needed a &#34;T...|\n",
            "|R139JH0UAW526N|          Five Stars|           Excellent|\n",
            "|R18SJ9HP6Z6STH|Do you have a fri...|Do you have a fri...|\n",
            "|R1BFDNRYHMMGP2|PERFECT GIFT........|Desperate to find...|\n",
            "|R3E3NJPAI9AWCO|Easy transaction....|Easy transaction....|\n",
            "| R1V2NT6FJ98IC|    Great Gift Idea!|Great gift idea! ...|\n",
            "|R36UOU2AGKRGCL|          Five Stars|      excellent.....|\n",
            "|R3KQOQ7DK5G1KA|          Five Stars|                good|\n",
            "|R189L6EAQ9BDZS|Simple, quick and...|Simple to buy. Ea...|\n",
            "|R2212GYLIVH8UO|          Five Stars|EXCELLENT SERVICE!!!|\n",
            "|R2E5JCHJZEWONV|          Five Stars|              Excell|\n",
            "|R30P7PDF27UKLW|          Five Stars|Very good and arr...|\n",
            "| RQOVC04LN1IL3|I have no real op...|Since I send them...|\n",
            "|R2RIGINLTQE86M|          Five Stars|Perfect gift; alw...|\n",
            "| RQSKB4AP31D0J|          Four Stars|Itz up to my expe...|\n",
            "| R386KJFKJ1K8P|          Five Stars|         great value|\n",
            "|R30Z52K77RT6BJ|          Five Stars|My go to gift for...|\n",
            "|R28NFCKVX5WOQE|   Father's Day Gift|Great Gift for Fa...|\n",
            "|R3JU4JFOTSB828|Another item I'd ...|I too have had th...|\n",
            "+--------------+--------------------+--------------------+\n",
            "only showing top 20 rows\n",
            "\n"
          ],
          "name": "stdout"
        }
      ]
    },
    {
      "cell_type": "code",
      "metadata": {
        "colab": {
          "base_uri": "https://localhost:8080/"
        },
        "id": "dP39d6cHtmN5",
        "outputId": "d1450f12-c0ec-4111-cc9b-f48210f2870f"
      },
      "source": [
        "# For Vine table\n",
        "vine_df = spark_df.select([\"review_id\", \"star_rating\", \"helpful_votes\", \"total_votes\", \"vine\"])\n",
        "vine_df.show()"
      ],
      "execution_count": 12,
      "outputs": [
        {
          "output_type": "stream",
          "text": [
            "+--------------+-----------+-------------+-----------+----+\n",
            "|     review_id|star_rating|helpful_votes|total_votes|vine|\n",
            "+--------------+-----------+-------------+-----------+----+\n",
            "| R611C9E5BW4HG|          5|            0|          0|   N|\n",
            "| RXUB6Z9UQTAIP|          5|            0|          0|   N|\n",
            "|R139JH0UAW526N|          5|            0|          0|   N|\n",
            "|R18SJ9HP6Z6STH|          5|            0|          0|   N|\n",
            "|R1BFDNRYHMMGP2|          5|            0|          0|   N|\n",
            "|R3E3NJPAI9AWCO|          5|            0|          0|   N|\n",
            "| R1V2NT6FJ98IC|          5|            0|          0|   N|\n",
            "|R36UOU2AGKRGCL|          5|            0|          0|   N|\n",
            "|R3KQOQ7DK5G1KA|          5|            0|          0|   N|\n",
            "|R189L6EAQ9BDZS|          5|            0|          0|   N|\n",
            "|R2212GYLIVH8UO|          5|            0|          0|   N|\n",
            "|R2E5JCHJZEWONV|          5|            0|          0|   N|\n",
            "|R30P7PDF27UKLW|          5|            0|          0|   N|\n",
            "| RQOVC04LN1IL3|          5|            0|          0|   N|\n",
            "|R2RIGINLTQE86M|          5|            0|          0|   N|\n",
            "| RQSKB4AP31D0J|          4|            0|          0|   N|\n",
            "| R386KJFKJ1K8P|          5|            0|          0|   N|\n",
            "|R30Z52K77RT6BJ|          5|            0|          0|   N|\n",
            "|R28NFCKVX5WOQE|          5|            0|          0|   N|\n",
            "|R3JU4JFOTSB828|          1|            0|          0|   N|\n",
            "+--------------+-----------+-------------+-----------+----+\n",
            "only showing top 20 rows\n",
            "\n"
          ],
          "name": "stdout"
        }
      ]
    },
    {
      "cell_type": "markdown",
      "metadata": {
        "id": "4hKeceziuJBe"
      },
      "source": [
        "# Load data to AWS RDS"
      ]
    },
    {
      "cell_type": "code",
      "metadata": {
        "colab": {
          "base_uri": "https://localhost:8080/"
        },
        "id": "NhBksOI6ubo7",
        "outputId": "fe3a8c21-943c-41a6-8a18-583194cdeeef"
      },
      "source": [
        "server = \"big-data-challenge-2.cifpjfaljnoi.ca-central-1.rds.amazonaws.com\"\n",
        "database = \"postgres\"\n",
        "port = \"5432\"\n",
        "username = \"postgres\"\n",
        "password = \"postgres\"\n",
        "\n",
        "conn = f\"postgres://{username}:{password}@{server}:{port}/{database}\"\n",
        "\n",
        "from sqlalchemy import create_engine \n",
        "engine = create_engine(conn, echo=False)"
      ],
      "execution_count": 16,
      "outputs": [
        {
          "output_type": "stream",
          "text": [
            "/usr/local/lib/python3.7/dist-packages/psycopg2/__init__.py:144: UserWarning: The psycopg2 wheel package will be renamed from release 2.8; in order to keep installing from binary please use \"pip install psycopg2-binary\" instead. For details see: <http://initd.org/psycopg/docs/install.html#binary-install-from-pypi>.\n",
            "  \"\"\")\n"
          ],
          "name": "stderr"
        }
      ]
    },
    {
      "cell_type": "code",
      "metadata": {
        "colab": {
          "base_uri": "https://localhost:8080/",
          "height": 198
        },
        "id": "wOp5U7iqwGUQ",
        "outputId": "cdec1d4e-9598-42d3-8c2b-22c5a311a14a"
      },
      "source": [
        "# Review ID table\n",
        "pd_review_id_df = review_id_df.toPandas()\n",
        "pd_review_id_df.head()"
      ],
      "execution_count": 13,
      "outputs": [
        {
          "output_type": "execute_result",
          "data": {
            "text/html": [
              "<div>\n",
              "<style scoped>\n",
              "    .dataframe tbody tr th:only-of-type {\n",
              "        vertical-align: middle;\n",
              "    }\n",
              "\n",
              "    .dataframe tbody tr th {\n",
              "        vertical-align: top;\n",
              "    }\n",
              "\n",
              "    .dataframe thead th {\n",
              "        text-align: right;\n",
              "    }\n",
              "</style>\n",
              "<table border=\"1\" class=\"dataframe\">\n",
              "  <thead>\n",
              "    <tr style=\"text-align: right;\">\n",
              "      <th></th>\n",
              "      <th>review_id</th>\n",
              "      <th>customer_id</th>\n",
              "      <th>product_id</th>\n",
              "      <th>product_parent</th>\n",
              "      <th>review_date</th>\n",
              "    </tr>\n",
              "  </thead>\n",
              "  <tbody>\n",
              "    <tr>\n",
              "      <th>0</th>\n",
              "      <td>R611C9E5BW4HG</td>\n",
              "      <td>27816201</td>\n",
              "      <td>B004LLIKVU</td>\n",
              "      <td>473048287</td>\n",
              "      <td>2015-08-29</td>\n",
              "    </tr>\n",
              "    <tr>\n",
              "      <th>1</th>\n",
              "      <td>RXUB6Z9UQTAIP</td>\n",
              "      <td>38605041</td>\n",
              "      <td>B00B2TFURQ</td>\n",
              "      <td>527289417</td>\n",
              "      <td>2015-08-26</td>\n",
              "    </tr>\n",
              "    <tr>\n",
              "      <th>2</th>\n",
              "      <td>R139JH0UAW526N</td>\n",
              "      <td>48625966</td>\n",
              "      <td>B0145WHYKC</td>\n",
              "      <td>473048287</td>\n",
              "      <td>2015-08-24</td>\n",
              "    </tr>\n",
              "    <tr>\n",
              "      <th>3</th>\n",
              "      <td>R18SJ9HP6Z6STH</td>\n",
              "      <td>16730696</td>\n",
              "      <td>B00BWDH368</td>\n",
              "      <td>473048287</td>\n",
              "      <td>2015-08-23</td>\n",
              "    </tr>\n",
              "    <tr>\n",
              "      <th>4</th>\n",
              "      <td>R1BFDNRYHMMGP2</td>\n",
              "      <td>10739227</td>\n",
              "      <td>B00A4EK2XW</td>\n",
              "      <td>129396926</td>\n",
              "      <td>2015-08-22</td>\n",
              "    </tr>\n",
              "  </tbody>\n",
              "</table>\n",
              "</div>"
            ],
            "text/plain": [
              "        review_id customer_id  product_id product_parent review_date\n",
              "0   R611C9E5BW4HG    27816201  B004LLIKVU      473048287  2015-08-29\n",
              "1   RXUB6Z9UQTAIP    38605041  B00B2TFURQ      527289417  2015-08-26\n",
              "2  R139JH0UAW526N    48625966  B0145WHYKC      473048287  2015-08-24\n",
              "3  R18SJ9HP6Z6STH    16730696  B00BWDH368      473048287  2015-08-23\n",
              "4  R1BFDNRYHMMGP2    10739227  B00A4EK2XW      129396926  2015-08-22"
            ]
          },
          "metadata": {
            "tags": []
          },
          "execution_count": 13
        }
      ]
    },
    {
      "cell_type": "code",
      "metadata": {
        "colab": {
          "base_uri": "https://localhost:8080/",
          "height": 228
        },
        "id": "hpIdObYUy2Ho",
        "outputId": "5647a157-1573-4b62-efaa-ae54454cc230"
      },
      "source": [
        "pd_review_id_df.set_index(\"review_id\", inplace=True)\n",
        "pd_review_id_df.head()"
      ],
      "execution_count": 14,
      "outputs": [
        {
          "output_type": "execute_result",
          "data": {
            "text/html": [
              "<div>\n",
              "<style scoped>\n",
              "    .dataframe tbody tr th:only-of-type {\n",
              "        vertical-align: middle;\n",
              "    }\n",
              "\n",
              "    .dataframe tbody tr th {\n",
              "        vertical-align: top;\n",
              "    }\n",
              "\n",
              "    .dataframe thead th {\n",
              "        text-align: right;\n",
              "    }\n",
              "</style>\n",
              "<table border=\"1\" class=\"dataframe\">\n",
              "  <thead>\n",
              "    <tr style=\"text-align: right;\">\n",
              "      <th></th>\n",
              "      <th>customer_id</th>\n",
              "      <th>product_id</th>\n",
              "      <th>product_parent</th>\n",
              "      <th>review_date</th>\n",
              "    </tr>\n",
              "    <tr>\n",
              "      <th>review_id</th>\n",
              "      <th></th>\n",
              "      <th></th>\n",
              "      <th></th>\n",
              "      <th></th>\n",
              "    </tr>\n",
              "  </thead>\n",
              "  <tbody>\n",
              "    <tr>\n",
              "      <th>R611C9E5BW4HG</th>\n",
              "      <td>27816201</td>\n",
              "      <td>B004LLIKVU</td>\n",
              "      <td>473048287</td>\n",
              "      <td>2015-08-29</td>\n",
              "    </tr>\n",
              "    <tr>\n",
              "      <th>RXUB6Z9UQTAIP</th>\n",
              "      <td>38605041</td>\n",
              "      <td>B00B2TFURQ</td>\n",
              "      <td>527289417</td>\n",
              "      <td>2015-08-26</td>\n",
              "    </tr>\n",
              "    <tr>\n",
              "      <th>R139JH0UAW526N</th>\n",
              "      <td>48625966</td>\n",
              "      <td>B0145WHYKC</td>\n",
              "      <td>473048287</td>\n",
              "      <td>2015-08-24</td>\n",
              "    </tr>\n",
              "    <tr>\n",
              "      <th>R18SJ9HP6Z6STH</th>\n",
              "      <td>16730696</td>\n",
              "      <td>B00BWDH368</td>\n",
              "      <td>473048287</td>\n",
              "      <td>2015-08-23</td>\n",
              "    </tr>\n",
              "    <tr>\n",
              "      <th>R1BFDNRYHMMGP2</th>\n",
              "      <td>10739227</td>\n",
              "      <td>B00A4EK2XW</td>\n",
              "      <td>129396926</td>\n",
              "      <td>2015-08-22</td>\n",
              "    </tr>\n",
              "  </tbody>\n",
              "</table>\n",
              "</div>"
            ],
            "text/plain": [
              "               customer_id  product_id product_parent review_date\n",
              "review_id                                                        \n",
              "R611C9E5BW4HG     27816201  B004LLIKVU      473048287  2015-08-29\n",
              "RXUB6Z9UQTAIP     38605041  B00B2TFURQ      527289417  2015-08-26\n",
              "R139JH0UAW526N    48625966  B0145WHYKC      473048287  2015-08-24\n",
              "R18SJ9HP6Z6STH    16730696  B00BWDH368      473048287  2015-08-23\n",
              "R1BFDNRYHMMGP2    10739227  B00A4EK2XW      129396926  2015-08-22"
            ]
          },
          "metadata": {
            "tags": []
          },
          "execution_count": 14
        }
      ]
    },
    {
      "cell_type": "code",
      "metadata": {
        "id": "P9YXZ0ATy4OH"
      },
      "source": [
        "pd_review_id_df.to_sql(\"review_id_table\", con=engine)"
      ],
      "execution_count": null,
      "outputs": []
    }
  ]
}